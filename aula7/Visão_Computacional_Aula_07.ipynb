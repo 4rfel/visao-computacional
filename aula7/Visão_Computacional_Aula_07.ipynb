{
 "cells": [
  {
   "cell_type": "markdown",
   "metadata": {
    "colab_type": "text",
    "id": "nxY7Hh85nCjZ"
   },
   "source": [
    "## **VISÃO COMPUTACIONAL - AULA 07**\n",
    "\n",
    "**Objetivos da aula:**\n",
    "\n",
    "*   conhecer o software G6-iris-recognition\n",
    "*   praticar com o software G6-iris-recognition\n",
    "*   especificar a competição de reconhecimento de íris dentro do curso\n",
    "\n",
    "\n",
    "\n",
    "\n",
    "\n",
    "\n",
    "\n"
   ]
  },
  {
   "cell_type": "markdown",
   "metadata": {
    "colab_type": "text",
    "id": "lcnbn_ynorRn"
   },
   "source": [
    "**Instalação do Módulo G6 (Gate 6)**\n",
    "\n",
    "Para instalar o módulo de reconhecimento de íris, usamos o comando abaixo:"
   ]
  },
  {
   "cell_type": "code",
   "execution_count": 2,
   "metadata": {
    "colab": {},
    "colab_type": "code",
    "id": "-LMS5ESrAfiu"
   },
   "outputs": [],
   "source": [
    "try:\n",
    "    import G6_iris_recognition\n",
    "except:\n",
    "    !pip install G6-iris-recognition\n",
    "    import G6_iris_recognition"
   ]
  },
  {
   "cell_type": "markdown",
   "metadata": {
    "colab_type": "text",
    "id": "nvi_ksCho9_f"
   },
   "source": [
    "**Uso do Módulo G6 (Gate 6)**\n",
    "\n",
    "Existem três passos para uso do módulo de reconhecimento de íris G6:\n",
    "\n",
    "1.   **Criação do arquivo vazio de modelo de reconhecimento** (model.pickle), que será preenchido pelo módulo G6. \n",
    "\n",
    "2.   **Construção de um modelo de reconhecimento** (model.pickle), tendo como base um banco de dados de imagens. Este banco deve ser organizado dentro de uma pasta (images, no nosso exemplo) e, o conjunto de íris de cada pessoa, deve estar dentro de uma pasta. Por exemplo, images/0000 irá indicar o conjunto de íris da pessoa 0000.\n",
    "3.   **Uso do modelo de reconhecimento** (model.pickle), onde colocamos a imagem que queremos reconhecer. No exemplo abaixo, estamos tentando reconhecer a íris da primeira pessoa, através do arquivo images/0000/0000_000.bmp.\n",
    "\n",
    "\n",
    "\n",
    "\n"
   ]
  },
  {
   "cell_type": "code",
   "execution_count": 3,
   "metadata": {
    "colab": {},
    "colab_type": "code",
    "id": "cn-WwCzrBplr"
   },
   "outputs": [
    {
     "name": "stdout",
     "output_type": "stream",
     "text": [
      "image database path not exist\n",
      "image model path not exist\n",
      "image model path not exist\n"
     ]
    }
   ],
   "source": [
    "G6_iris_recognition.iris_model_train(\"images\", \"model.pickle\")\n",
    "iris_name = G6_iris_recognition.iris_model_test(\"model.pickle\", \"images/0000/0000_000.bmp\")\n",
    "print(iris_name)"
   ]
  },
  {
   "cell_type": "markdown",
   "metadata": {
    "colab_type": "text",
    "id": "KOgyXhOzsrw5"
   },
   "source": [
    "# **EXERCÍCIO**\n",
    "\n",
    "*   Construir um treinamento no módulo G6 com duas íris de cada uma das cinco primeiras pessoas (0000 a 0004)\n",
    "*   Verificar a qualidade do treinamento testando cada uma das íris usadas no treinamento\n",
    "\n"
   ]
  },
  {
   "cell_type": "code",
   "execution_count": null,
   "metadata": {
    "colab": {},
    "colab_type": "code",
    "id": "_aMjKV1KtklA"
   },
   "outputs": [],
   "source": [
    "#seu código vai aqui"
   ]
  },
  {
   "cell_type": "markdown",
   "metadata": {
    "colab_type": "text",
    "id": "-bchKMRxtrJH"
   },
   "source": [
    "# **EXERCÍCIO**\n",
    "\n",
    "Será que a qualidade das imagens influencia na qualidade do treinamento ? Analise e experimente melhorar a qualidade das imagens usadas no exercício anterior, tendo como base as técnicas estudadas na disciplina até o momento."
   ]
  },
  {
   "cell_type": "code",
   "execution_count": null,
   "metadata": {
    "colab": {},
    "colab_type": "code",
    "id": "mSXAXFsnuEeX"
   },
   "outputs": [],
   "source": [
    "#seu código vai aqui"
   ]
  },
  {
   "cell_type": "markdown",
   "metadata": {
    "colab_type": "text",
    "id": "J9SPAQQvuXrV"
   },
   "source": [
    "**PROJETO IRIS - DATA DE ENTREGA: 20/10/2020**\n",
    "\n",
    "\n",
    "*   Crie um modelo de treinamento usando a base de dados fornecida (60 pessoas com 20 íris cada ~ 1200 imagens). Durante o treinamento, você pode utilizar qualquer procedimento para melhorar a qualidade das imagens.\n",
    "*   Obtenha a matriz de confusão do seu modelo e analise os resultados\n",
    "\n",
    "**O que entregar:** notebook implementado em Python. \n",
    "\n"
   ]
  }
 ],
 "metadata": {
  "colab": {
   "collapsed_sections": [],
   "name": "Visão_Computacional_Aula_07.ipynb",
   "provenance": []
  },
  "kernelspec": {
   "display_name": "Python 3",
   "language": "python",
   "name": "python3"
  },
  "language_info": {
   "codemirror_mode": {
    "name": "ipython",
    "version": 3
   },
   "file_extension": ".py",
   "mimetype": "text/x-python",
   "name": "python",
   "nbconvert_exporter": "python",
   "pygments_lexer": "ipython3",
   "version": "3.7.4"
  }
 },
 "nbformat": 4,
 "nbformat_minor": 4
}
